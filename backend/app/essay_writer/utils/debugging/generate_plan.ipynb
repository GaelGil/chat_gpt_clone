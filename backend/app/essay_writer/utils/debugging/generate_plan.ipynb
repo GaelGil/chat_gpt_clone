{
 "cells": [
  {
   "cell_type": "code",
   "execution_count": 48,
   "id": "3d97234f-c440-4398-9f69-19f2eefd3150",
   "metadata": {},
   "outputs": [],
   "source": [
    "from openai import OpenAI\n",
    "from pydantic import BaseModel, Field\n",
    "from typing import Literal, Optional, List\n",
    "import logging\n",
    "import asyncio\n",
    "import os\n",
    "from dotenv import load_dotenv\n",
    "from pathlib import Path\n",
    "import pickle\n",
    "\n",
    "load_dotenv(Path(\"../../.env\"))\n",
    "logger = logging.getLogger(__name__)"
   ]
  },
  {
   "cell_type": "code",
   "execution_count": 49,
   "id": "92cf3299-b98a-493a-acb3-d32c3b822e9f",
   "metadata": {},
   "outputs": [],
   "source": [
    "class OpenAIClient:\n",
    "    def __init__(self, api_key: str) -> None:\n",
    "        \"\"\"\n",
    "        Args:\n",
    "            model_name: The name of the openai model we are using\n",
    "            api_key: The api key for our openai model\n",
    "        Returns:\n",
    "        \"\"\"\n",
    "        self.client = OpenAI(api_key=api_key)\n",
    "\n",
    "    def get_client(self) -> OpenAI:\n",
    "        \"\"\"\n",
    "        Args:\n",
    "            None\n",
    "\n",
    "        Returns:\n",
    "            The openai client\n",
    "        \"\"\"\n",
    "        return self.client"
   ]
  },
  {
   "cell_type": "code",
   "execution_count": 50,
   "id": "a63711c6-df97-4d2a-9764-cbf31c1c55bd",
   "metadata": {},
   "outputs": [],
   "source": [
    "llm = OpenAIClient(api_key=os.getenv(\"OPENAI_API_KEY\")).get_client()"
   ]
  },
  {
   "cell_type": "code",
   "execution_count": 51,
   "id": "044f1ee1-4f5a-4082-bbbf-82b19c9a0b8b",
   "metadata": {},
   "outputs": [],
   "source": [
    "from typing import Any, Dict, Optional, Union\n",
    "from fastmcp.client.client import Client\n",
    "from contextlib import asynccontextmanager\n",
    "\n",
    "\n",
    "class MCPClient:\n",
    "    def __init__(self, config: Union[str, dict] = \"http://localhost:8050/sse\"):\n",
    "        \"\"\"Initialize the MCP client.\n",
    "\n",
    "        Args:\n",
    "            config (Union[str, dict]): Either a URL string or a configuration dictionary.\n",
    "                If string: Treated as the URL of the MCP server.\n",
    "                If dict: Should follow the MCP configuration format with 'mcpServers' key.\n",
    "        \"\"\"\n",
    "        self.config = config\n",
    "        self._client = None\n",
    "        self._is_connected = False\n",
    "\n",
    "    async def connect(self):\n",
    "        \"\"\"Connect to the MCP server(s).\"\"\"\n",
    "        if self._is_connected:\n",
    "            return\n",
    "\n",
    "        if isinstance(self.config, str):\n",
    "            # For SSE transport, we just need the URL\n",
    "            self._client = Client(self.config)\n",
    "        else:\n",
    "            # Configuration mode with multiple servers\n",
    "            self._client = Client(self.config)\n",
    "\n",
    "        await self._client.__aenter__()\n",
    "        self._is_connected = True\n",
    "\n",
    "    async def disconnect(self):\n",
    "        \"\"\"Disconnect from the MCP server(s).\"\"\"\n",
    "        if self._is_connected and self._client:\n",
    "            await self._client.__aexit__(None, None, None)\n",
    "            self._is_connected = False\n",
    "            self._client = None\n",
    "\n",
    "    @asynccontextmanager\n",
    "    async def session(self):\n",
    "        \"\"\"Context manager for session management.\"\"\"\n",
    "        try:\n",
    "            await self.connect()\n",
    "            yield self\n",
    "        finally:\n",
    "            await self.disconnect()\n",
    "\n",
    "    async def list_servers(self) -> list:\n",
    "        \"\"\"List available MCP servers.\"\"\"\n",
    "        if not self._is_connected:\n",
    "            raise RuntimeError(\"Not connected to MCP server(s)\")\n",
    "        return list(self._client.servers.keys())\n",
    "\n",
    "    async def list_tools(self) -> list:\n",
    "        \"\"\"List available tools.\n",
    "\n",
    "        Returns:\n",
    "            list: List of available tools.\n",
    "        \"\"\"\n",
    "        if not self._is_connected:\n",
    "            raise RuntimeError(\"Not connected to MCP server(s)\")\n",
    "        return await self._client.list_tools()\n",
    "\n",
    "    async def get_tools(self) -> list[dict[str, Any]]:\n",
    "        \"\"\"Retrieve tools in a format compatible with OpenAI function calling.\n",
    "\n",
    "        Returns:\n",
    "            list[dict[str, Any]]: List of tools in OpenAI function calling format.\n",
    "        \"\"\"\n",
    "        if not self._is_connected:\n",
    "            raise RuntimeError(\"Not connected to MCP server(s)\")\n",
    "\n",
    "        tools = await self.list_tools()\n",
    "        openai_tools = []\n",
    "\n",
    "        for tool in tools:\n",
    "            openai_tools.append(\n",
    "                {\n",
    "                    \"type\": \"function\",\n",
    "                    \"name\": tool.name,\n",
    "                    \"description\": tool.description,\n",
    "                    \"parameters\": {\n",
    "                        \"type\": \"object\",\n",
    "                        \"properties\": tool.inputSchema.get(\"properties\", {}),\n",
    "                        \"required\": tool.inputSchema.get(\"required\", []),\n",
    "                    },\n",
    "                }\n",
    "            )\n",
    "\n",
    "        return openai_tools\n",
    "\n",
    "    async def call_tool(\n",
    "        self, tool_name: str, arguments: Dict[str, Any], server: Optional[str] = None\n",
    "    ) -> Any:\n",
    "        \"\"\"Call a tool.\n",
    "\n",
    "        Args:\n",
    "            tool_name (str): The name of the tool to call.\n",
    "            arguments (Dict[str, Any]): The arguments to pass to the tool.\n",
    "            server (str, optional): Specific server to call the tool on.\n",
    "                                 If None, the client will try to find the tool\n",
    "                                 in any of the available servers.\n",
    "\n",
    "        Returns:\n",
    "            Any: The result of the tool call.\n",
    "        \"\"\"\n",
    "        if not self._is_connected:\n",
    "            raise RuntimeError(\"Not connected to MCP server(s)\")\n",
    "\n",
    "        result = await self._client.call_tool(tool_name, arguments, server)\n",
    "        return result.content[0].text if result.content else None"
   ]
  },
  {
   "cell_type": "code",
   "execution_count": 52,
   "id": "a65a9bc9-22a0-483e-8865-7c4386924be8",
   "metadata": {},
   "outputs": [
    {
     "name": "stderr",
     "output_type": "stream",
     "text": [
      "Error in sse_reader\n",
      "Traceback (most recent call last):\n",
      "  File \"/Users/gael/git-repos/essay_writing_ai_agent/.venv/lib/python3.13/site-packages/httpx/_transports/default.py\", line 101, in map_httpcore_exceptions\n",
      "    yield\n",
      "  File \"/Users/gael/git-repos/essay_writing_ai_agent/.venv/lib/python3.13/site-packages/httpx/_transports/default.py\", line 271, in __aiter__\n",
      "    async for part in self._httpcore_stream:\n",
      "        yield part\n",
      "  File \"/Users/gael/git-repos/essay_writing_ai_agent/.venv/lib/python3.13/site-packages/httpcore/_async/connection_pool.py\", line 407, in __aiter__\n",
      "    raise exc from None\n",
      "  File \"/Users/gael/git-repos/essay_writing_ai_agent/.venv/lib/python3.13/site-packages/httpcore/_async/connection_pool.py\", line 403, in __aiter__\n",
      "    async for part in self._stream:\n",
      "        yield part\n",
      "  File \"/Users/gael/git-repos/essay_writing_ai_agent/.venv/lib/python3.13/site-packages/httpcore/_async/http11.py\", line 342, in __aiter__\n",
      "    raise exc\n",
      "  File \"/Users/gael/git-repos/essay_writing_ai_agent/.venv/lib/python3.13/site-packages/httpcore/_async/http11.py\", line 334, in __aiter__\n",
      "    async for chunk in self._connection._receive_response_body(**kwargs):\n",
      "        yield chunk\n",
      "  File \"/Users/gael/git-repos/essay_writing_ai_agent/.venv/lib/python3.13/site-packages/httpcore/_async/http11.py\", line 203, in _receive_response_body\n",
      "    event = await self._receive_event(timeout=timeout)\n",
      "            ^^^^^^^^^^^^^^^^^^^^^^^^^^^^^^^^^^^^^^^^^^\n",
      "  File \"/Users/gael/git-repos/essay_writing_ai_agent/.venv/lib/python3.13/site-packages/httpcore/_async/http11.py\", line 213, in _receive_event\n",
      "    with map_exceptions({h11.RemoteProtocolError: RemoteProtocolError}):\n",
      "         ~~~~~~~~~~~~~~^^^^^^^^^^^^^^^^^^^^^^^^^^^^^^^^^^^^^^^^^^^^^^^^\n",
      "  File \"/Users/gael/.local/share/uv/python/cpython-3.13.1-macos-x86_64-none/lib/python3.13/contextlib.py\", line 162, in __exit__\n",
      "    self.gen.throw(value)\n",
      "    ~~~~~~~~~~~~~~^^^^^^^\n",
      "  File \"/Users/gael/git-repos/essay_writing_ai_agent/.venv/lib/python3.13/site-packages/httpcore/_exceptions.py\", line 14, in map_exceptions\n",
      "    raise to_exc(exc) from exc\n",
      "httpcore.RemoteProtocolError: peer closed connection without sending complete message body (incomplete chunked read)\n",
      "\n",
      "The above exception was the direct cause of the following exception:\n",
      "\n",
      "Traceback (most recent call last):\n",
      "  File \"/Users/gael/git-repos/essay_writing_ai_agent/.venv/lib/python3.13/site-packages/mcp/client/sse.py\", line 72, in sse_reader\n",
      "    async for sse in event_source.aiter_sse():\n",
      "    ...<34 lines>...\n",
      "                logger.warning(f\"Unknown SSE event: {sse.event}\")\n",
      "  File \"/Users/gael/git-repos/essay_writing_ai_agent/.venv/lib/python3.13/site-packages/httpx_sse/_api.py\", line 42, in aiter_sse\n",
      "    async for line in lines:\n",
      "    ...<3 lines>...\n",
      "            yield sse\n",
      "  File \"/Users/gael/git-repos/essay_writing_ai_agent/.venv/lib/python3.13/site-packages/httpx/_models.py\", line 1031, in aiter_lines\n",
      "    async for text in self.aiter_text():\n",
      "        for line in decoder.decode(text):\n",
      "            yield line\n",
      "  File \"/Users/gael/git-repos/essay_writing_ai_agent/.venv/lib/python3.13/site-packages/httpx/_models.py\", line 1018, in aiter_text\n",
      "    async for byte_content in self.aiter_bytes():\n",
      "    ...<2 lines>...\n",
      "            yield chunk\n",
      "  File \"/Users/gael/git-repos/essay_writing_ai_agent/.venv/lib/python3.13/site-packages/httpx/_models.py\", line 997, in aiter_bytes\n",
      "    async for raw_bytes in self.aiter_raw():\n",
      "    ...<2 lines>...\n",
      "            yield chunk\n",
      "  File \"/Users/gael/git-repos/essay_writing_ai_agent/.venv/lib/python3.13/site-packages/httpx/_models.py\", line 1055, in aiter_raw\n",
      "    async for raw_stream_bytes in self.stream:\n",
      "    ...<2 lines>...\n",
      "            yield chunk\n",
      "  File \"/Users/gael/git-repos/essay_writing_ai_agent/.venv/lib/python3.13/site-packages/httpx/_client.py\", line 176, in __aiter__\n",
      "    async for chunk in self._stream:\n",
      "        yield chunk\n",
      "  File \"/Users/gael/git-repos/essay_writing_ai_agent/.venv/lib/python3.13/site-packages/httpx/_transports/default.py\", line 270, in __aiter__\n",
      "    with map_httpcore_exceptions():\n",
      "         ~~~~~~~~~~~~~~~~~~~~~~~^^\n",
      "  File \"/Users/gael/.local/share/uv/python/cpython-3.13.1-macos-x86_64-none/lib/python3.13/contextlib.py\", line 162, in __exit__\n",
      "    self.gen.throw(value)\n",
      "    ~~~~~~~~~~~~~~^^^^^^^\n",
      "  File \"/Users/gael/git-repos/essay_writing_ai_agent/.venv/lib/python3.13/site-packages/httpx/_transports/default.py\", line 118, in map_httpcore_exceptions\n",
      "    raise mapped_exc(message) from exc\n",
      "httpx.RemoteProtocolError: peer closed connection without sending complete message body (incomplete chunked read)\n"
     ]
    }
   ],
   "source": [
    "        mcp_client = MCPClient()\n",
    "        await mcp_client.connect()\n",
    "\n",
    "        logger.info(\"Getting tools from MCP...\")\n",
    "        tools = await mcp_client.get_tools()\n",
    "        logger.info(f\"Loaded {len(tools)} tools from MCP\")"
   ]
  },
  {
   "cell_type": "code",
   "execution_count": 53,
   "id": "399ea509-b44a-425c-a0c9-cc6a3bbe41d9",
   "metadata": {},
   "outputs": [
    {
     "data": {
      "text/plain": [
       "[{'type': 'function',\n",
       "  'name': 'get_weather',\n",
       "  'description': 'Get current temperature for provided coordinates in celsius',\n",
       "  'parameters': {'type': 'object',\n",
       "   'properties': {'latitude': {'title': 'latitude', 'type': 'string'},\n",
       "    'longitude': {'title': 'longitude', 'type': 'string'}},\n",
       "   'required': ['latitude', 'longitude']}},\n",
       " {'type': 'function',\n",
       "  'name': 'wiki_search',\n",
       "  'description': 'Search wikipedia for the given query and returns a summary.',\n",
       "  'parameters': {'type': 'object',\n",
       "   'properties': {'query': {'title': 'Query', 'type': 'string'},\n",
       "    'sentences': {'default': 2, 'title': 'Sentences', 'type': 'integer'}},\n",
       "   'required': ['query']}},\n",
       " {'type': 'function',\n",
       "  'name': 'save_txt',\n",
       "  'description': 'Save text to a .txt file',\n",
       "  'parameters': {'type': 'object',\n",
       "   'properties': {'text': {'title': 'Text', 'type': 'string'},\n",
       "    'filename': {'default': 'output.txt',\n",
       "     'title': 'Filename',\n",
       "     'type': 'string'}},\n",
       "   'required': ['text']}},\n",
       " {'type': 'function',\n",
       "  'name': 'writer_tool',\n",
       "  'description': 'Writes an essay on a given topic',\n",
       "  'parameters': {'type': 'object',\n",
       "   'properties': {'query': {'title': 'Query', 'type': 'string'},\n",
       "    'context': {'title': 'Context', 'type': 'string'}},\n",
       "   'required': ['query', 'context']}},\n",
       " {'type': 'function',\n",
       "  'name': 'review_tool',\n",
       "  'description': 'Reviews content on a given topic',\n",
       "  'parameters': {'type': 'object',\n",
       "   'properties': {'content': {'title': 'Content', 'type': 'string'}},\n",
       "   'required': ['content']}},\n",
       " {'type': 'function',\n",
       "  'name': 'assemble_content',\n",
       "  'description': 'Assamble content from previous tasks',\n",
       "  'parameters': {'type': 'object',\n",
       "   'properties': {'content': {'title': 'Content', 'type': 'string'}},\n",
       "   'required': ['content']}},\n",
       " {'type': 'function',\n",
       "  'name': 'arxiv_search',\n",
       "  'description': 'Search arxiv',\n",
       "  'parameters': {'type': 'object',\n",
       "   'properties': {'query': {'title': 'Query', 'type': 'string'}},\n",
       "   'required': ['query']}}]"
      ]
     },
     "execution_count": 53,
     "metadata": {},
     "output_type": "execute_result"
    }
   ],
   "source": [
    "tools"
   ]
  },
  {
   "cell_type": "code",
   "execution_count": 54,
   "id": "fc9039a2-1b3f-4fee-964a-78314eac9554",
   "metadata": {},
   "outputs": [],
   "source": [
    "# Define prompt for planner agent\n",
    "PLANNER_AGENT_PROMPT = \"\"\"\n",
    "You are an expert essay writer planner.\n",
    "You take in essay writing request on a given topic or review an essay, and create comprehensive plans, breaking down the main task of writing an essay into smaller actionable tasks.\n",
    "\n",
    "CORE PRINCIPLE: Be direct and action-oriented. Minimize follow-up questions.\n",
    "\n",
    "DEFAULT ASSUMPTIONS FOR REQUESTS:\n",
    "- The request is about writing an essay on a given topic.\n",
    "- The request might be vague or unclear, one word, or unclear intent\n",
    "- The request might be very specific or clear\n",
    "- Request might be to simply review the essay\n",
    "\n",
    "IMMEDIATE PLANNING APPROACH:\n",
    "**WORKFLOW:**\n",
    "1. Always start by creating a plan (for writing an or reviewing an essay) with detailed tasks.\n",
    "2. Plan should consist of multiple tasks, \n",
    "3. Plan should be specific and actionable\n",
    "4. For each task in the plan, you MUST assign a tool to perform the task. FAILURE to do so will result in task FAIL.\n",
    "5. YOU must determine how many body paragraphs are sufficient to address the topic.\n",
    "\n",
    "\n",
    "SAMPLE PLAN FOR WRITING ESSAY (NOT LIMITED TO ONLY THESE STEPS)\n",
    "Research topic/query,\n",
    "Select main points to use from research,\n",
    "Write introduction with some given context (ie research notes),\n",
    "write folow-up to introduction,\n",
    "Put what we have of the essay so far together (YOU DECIDE WHEN TO DO THAT)\n",
    "write followup to previous,\n",
    "write conclusion,\n",
    "review,\n",
    "edit,\n",
    "proofread,\n",
    "save essay\n",
    "return essay\n",
    "\n",
    "SAMPLE PLAN FOR REVIEWING ESSAY (NOT LIMITED TO ONLY THESE STEPS)\n",
    "review,\n",
    "edit,\n",
    "proofread,\n",
    "Put what we have of the essay so far together (YOU DECIDE WHEN TO DO THAT)\n",
    "save essay\n",
    "return essay\n",
    "\n",
    "\n",
    "TOOL CALLING STRATEGY:\n",
    "- YOU MUST ASSIGN TOOLS TO EACH TASK\n",
    "- FAILURE TO ASSIGN TOOLS TO EACH TASK WILL RESULT IN TASK FAILURE AND OVERALL PLAN FAILURE\n",
    "- AVOID repetative tool calls\n",
    "- Use tools APPROPRIATELY\n",
    "Example of GOOD tool call \n",
    "Task= \"research this topic with a this query\" -> call research tool\n",
    "Task =\"need to write about a certain topic\" -> call writing tool\n",
    "Example of BAD tool call\n",
    "Task= \"Write about a certain topic\" -> call research tool\n",
    "Tool usage MUST make sense with task\n",
    "\n",
    "MINIMAL QUESTIONS STRATEGY:\n",
    "- For vauge requests such as single words: generate an interesting topic ie: star wars -> star wars impact on modern culture, then plan and create tasks\n",
    "- For detailed requests: Create multiple tasks \n",
    "\n",
    "You will be given a output format that you must adhere to.\n",
    "\n",
    "Generate plans immediately without asking follow-up questions unless absolutely necessary.\n",
    "\"\"\""
   ]
  },
  {
   "cell_type": "code",
   "execution_count": 55,
   "id": "4a96fc43-5411-4035-a817-4ed1afa1bd36",
   "metadata": {},
   "outputs": [],
   "source": [
    "from typing import Any, Dict, List, Optional, Literal, ForwardRef\n",
    "\n",
    "class ToolArguments(BaseModel):\n",
    "    keys: List[str] = Field(description=\"A list of arguments to a tool\")\n",
    "    values: List[str] = Field(description=\"A list of argument values to a tool\")\n",
    "    # arguments: Dict[str, Any] = Field(description=\"A dictionary where keys are tool arguments and values are the tool call values\")\n",
    "\n",
    "\n",
    "class ToolCall(BaseModel):\n",
    "    \"\"\"Represents a tool call request from the LLM.\"\"\"\n",
    "\n",
    "    id: str = Field(description=\"The ID of the tool call.\")\n",
    "    name: str = Field(description=\"The name of the tool to call.\")\n",
    "    arguments: ToolArguments = Field(description=\"The arguments to call the tool with.\")\n",
    "\n",
    "\n",
    "class ToolCalls(BaseModel):\n",
    "    id: int = Field(description=\"An ID for the tool calls\")\n",
    "    tool_calls: List[ToolCall] = Field(\n",
    "        description=\"A list of tools to be executed sequentially.\"\n",
    "    )\n",
    "\n",
    "class PlannerTask(BaseModel):\n",
    "    \"\"\"Represents a single task generated by the Planner.\"\"\"\n",
    "\n",
    "    id: int = Field(description=\"Sequential ID for the task.\")\n",
    "    description: str = Field(\n",
    "        description=\"Clear description of the task to be executed.\"\n",
    "    )\n",
    "    tool_calls: List[ToolCall] = Field(\n",
    "        description=\"A list of tools to be executed sequentially to complete the task\"\n",
    "    )\n",
    "    thought: str = Field(\n",
    "        description=\"A explanation of what needs to be done and how. Includes description and tool calls.\"\n",
    "    )\n",
    "    status: Optional[\n",
    "        Literal[\n",
    "            \"input_required\",\n",
    "            \"completed\",\n",
    "            \"error\",\n",
    "            \"pending\",\n",
    "            \"incomplete\",\n",
    "            \"todo\",\n",
    "            \"not_started\",\n",
    "        ]\n",
    "    ] = Field(default=\"input_required\", description=\"Status of the task\")\n",
    "\n",
    "\n",
    "class Plan(BaseModel):\n",
    "    \"\"\"Output schema for the Planner Agent.\"\"\"\n",
    "\n",
    "    original_query: str = Field(description=\"The original user query for context.\")\n",
    "    description: str = Field(description=\"Clear description of the overall plan.\")\n",
    "    tasks: List[PlannerTask] = Field(\n",
    "        description=\"A list of tasks to be executed sequentially.\"\n",
    "    )\n",
    "\n",
    "\n",
    "class ToolResult(BaseModel):\n",
    "    \"\"\"Represents the result of a tool execution.\"\"\"\n",
    "\n",
    "    tool_call_id: str = Field(description=\"The ID of the tool call this result is for.\")\n",
    "    result: str = Field(description=\"The result of the tool execution.\")\n",
    "    is_error: bool = Field(\n",
    "        default=False, description=\"Whether the tool execution resulted in an error.\"\n",
    "    )\n",
    "\n",
    "\n",
    "class TaskExecutionResponse(BaseModel):\n",
    "    \"\"\"Represents a single task generated by the Planner.\"\"\"\n",
    "\n",
    "    id: int = Field(description=\"Id of task we are executing.\")\n",
    "    description: str = Field(description=\"Clear description of the task to be executed.\")\n",
    "    tools_sueggested: str = Field(description=\"A list of the tools suggested for the task\")\n",
    "    response_type: Optional[\n",
    "        Literal[\n",
    "            \"tool_calls\",\n",
    "            \"text\",\n",
    "        ]\n",
    "    ] = Field(default=\"input_required\", description=\"The response type of the task execution\")\n",
    "    tool_calls: List[ToolCall] = Field(description=\"A list of tool calls to be executed. Empty if response_type is text\")"
   ]
  },
  {
   "cell_type": "code",
   "execution_count": 56,
   "id": "55563082-c4e8-469b-b47b-615852fe396c",
   "metadata": {},
   "outputs": [],
   "source": [
    "class PlannerAgent:\n",
    "    def __init__(\n",
    "        self,\n",
    "        dev_prompt,\n",
    "        llm,\n",
    "        messages,\n",
    "        tools,\n",
    "        model_name: str = \"gpt-4.1-mini\",\n",
    "    ):\n",
    "        self.model_name = model_name\n",
    "        self.dev_prompt = dev_prompt\n",
    "        self.llm = llm\n",
    "        self.messages = messages\n",
    "        self.tools = tools\n",
    "        if self.dev_prompt:\n",
    "            self.messages.append({\"role\": \"developer\", \"content\": self.dev_prompt})\n",
    "\n",
    "    def add_messages(self, query: str):\n",
    "        self.messages.append({\"role\": \"user\", \"content\": query})\n",
    "\n",
    "    def plan(self, query: str):\n",
    "        \"\"\"Create a detailed plan to complete the request of the user.\n",
    "\n",
    "        Args:\n",
    "            query (str): The request of the user.\n",
    "\n",
    "        Returns:\n",
    "            Plan: The plan to complete the request of the user.\n",
    "        \"\"\"\n",
    "        self.add_messages(query=query)\n",
    "        response = self.llm.responses.parse(\n",
    "            model=self.model_name,\n",
    "            input=self.messages,\n",
    "            tools=self.tools,\n",
    "            text_format=Plan,\n",
    "        )\n",
    "        return response"
   ]
  },
  {
   "cell_type": "code",
   "execution_count": 57,
   "id": "84da1599-303f-4d9d-86f5-7f2b7285f696",
   "metadata": {},
   "outputs": [],
   "source": [
    "planner = PlannerAgent(\n",
    "    dev_prompt=PLANNER_AGENT_PROMPT,\n",
    "    llm=llm,\n",
    "    messages=[],\n",
    "    tools=tools,\n",
    "    model_name=\"gpt-4.1-mini\",\n",
    ")\n",
    "logger.info(\"Successfully initialized PlannerAgent\")"
   ]
  },
  {
   "cell_type": "code",
   "execution_count": 58,
   "id": "e9ae076a-6d61-4491-ade2-2db067872d70",
   "metadata": {},
   "outputs": [],
   "source": [
    "content = \"write an essay on the cultural impact of the internet\""
   ]
  },
  {
   "cell_type": "code",
   "execution_count": 59,
   "id": "7b032bb2-ea6a-4111-9540-bf48d802fede",
   "metadata": {},
   "outputs": [],
   "source": [
    "plan = planner.plan(content) # UNCOMMENT TO GENERATE A NEW PLAN"
   ]
  },
  {
   "cell_type": "code",
   "execution_count": 40,
   "id": "43420039-c423-4748-b2b5-75e58a0baffc",
   "metadata": {},
   "outputs": [
    {
     "data": {
      "text/plain": [
       "\"PLAN TYPE: <class 'openai.types.responses.parsed_response.ParsedResponse[Plan]'>\""
      ]
     },
     "execution_count": 40,
     "metadata": {},
     "output_type": "execute_result"
    }
   ],
   "source": [
    "f'PLAN TYPE: {type(plan)}'"
   ]
  },
  {
   "cell_type": "code",
   "execution_count": 60,
   "id": "d7f82e52-f593-4411-8d27-eca9ca776f4d",
   "metadata": {},
   "outputs": [
    {
     "data": {
      "text/plain": [
       "ParsedResponse[Plan](id='resp_688d7c73e4a4819c8a5d9d51b657f87303da78e2ba052918', created_at=1754102899.0, error=None, incomplete_details=None, instructions=None, metadata={}, model='gpt-4.1-mini-2025-04-14', object='response', output=[ParsedResponseOutputMessage[Plan](id='msg_688d7c7483c8819ca87af398723b927203da78e2ba052918', content=[ParsedResponseOutputText[Plan](annotations=[], text='{\"original_query\":\"write an essay on the cultural impact of the internet\",\"description\":\"Create an essay discussing the cultural impact of the internet by researching the topic, selecting key cultural aspects influenced by the internet, writing a structured essay with introduction, body paragraphs, and conclusion, and then reviewing and saving the essay.\",\"tasks\":[{\"id\":1,\"description\":\"Research the cultural impact of the internet to gather relevant information and key points.\",\"tool_calls\":[{\"id\":\"1\",\"name\":\"functions.wiki_search\",\"arguments\":{\"keys\":[\"query\",\"sentences\"],\"values\":[\"cultural impact of the internet\",\"4\"]}}],\"thought\":\"To write an informed essay, first gather concise and relevant information about the cultural impact of the internet through a Wikipedia search.\" ,\"status\":\"todo\"},{\"id\":2,\"description\":\"Select main points from the research to structure the essay, focusing on significant cultural aspects influenced by the internet such as communication, social behavior, and media.\",\"tool_calls\":[],\"thought\":\"Analyze the research results and select key cultural impact points to build a clear essay structure for multiple body paragraphs. This is a mental planning step before writing.\" ,\"status\":\"todo\"},{\"id\":3,\"description\":\"Write the introduction paragraph to the essay, outlining the topic and importance of the cultural impact of the internet.\",\"tool_calls\":[{\"id\":\"2\",\"name\":\"functions.writer_tool\",\"arguments\":{\"keys\":[\"query\",\"context\"],\"values\":[\"Introduction to cultural impact of the internet\",\"Use researched information to frame the significance and scope of cultural changes due to the internet.\"]}}],\"thought\":\"Craft an engaging introduction that sets up the topic and importance of the internet\\'s cultural impact using the research context.\" ,\"status\":\"todo\"},{\"id\":4,\"description\":\"Write the first body paragraph about the impact of the internet on communication and social behavior.\",\"tool_calls\":[{\"id\":\"3\",\"name\":\"functions.writer_tool\",\"arguments\":{\"keys\":[\"query\",\"context\"],\"values\":[\"Impact of internet on communication and social behavior\",\"Discuss changes in how people communicate, social networking, and online communities based on research.\"]}}],\"thought\":\"Develop the first body paragraph focusing on how the internet has transformed communication and social interactions.\" ,\"status\":\"todo\"},{\"id\":5,\"description\":\"Write the second body paragraph about the impact of the internet on media consumption and content creation.\",\"tool_calls\":[{\"id\":\"4\",\"name\":\"functions.writer_tool\",\"arguments\":{\"keys\":[\"query\",\"context\"],\"values\":[\"Impact of internet on media consumption and content creation\",\"Explain shifts in media access, user-generated content, and new platforms for cultural expression.\"]}}],\"thought\":\"Create a paragraph outlining how the internet has changed media consumption patterns and enabled content creation.\" ,\"status\":\"todo\"},{\"id\":6,\"description\":\"Write the third body paragraph about broader cultural shifts caused by the internet, such as globalization and cultural exchange.\",\"tool_calls\":[{\"id\":\"5\",\"name\":\"functions.writer_tool\",\"arguments\":{\"keys\":[\"query\",\"context\"],\"values\":[\"Internet-driven globalization and cultural exchange\",\"Cover how the internet facilitates global connectivity and cross-cultural influences.\"]}}],\"thought\":\"Present a paragraph discussing how the internet encourages globalization and cultural exchange, broadening cultural perspectives.\" ,\"status\":\"todo\"},{\"id\":7,\"description\":\"Write the conclusion paragraph summarizing the overall cultural impact of the internet and its ongoing influence.\",\"tool_calls\":[{\"id\":\"6\",\"name\":\"functions.writer_tool\",\"arguments\":{\"keys\":[\"query\",\"context\"],\"values\":[\"Conclusion on cultural impact of the internet\",\"Summarize the main points and reflect on the significance and future implications of the internet\\'s cultural impact.\"]}}],\"thought\":\"Conclude the essay by summarizing key cultural impacts and reflecting on ongoing and future implications.\" ,\"status\":\"todo\"},{\"id\":8,\"description\":\"Review and edit the entire essay for coherence, clarity, and completeness.\",\"tool_calls\":[{\"id\":\"7\",\"name\":\"functions.review_tool\",\"arguments\":{\"keys\":[\"content\"],\"values\":[\"Introduction and body paragraphs about the cultural impact of the internet and conclusion.\"]}}],\"thought\":\"Review the full essay content to ensure it is clear, coherent, and effectively covers the topic before finalizing.\" ,\"status\":\"todo\"},{\"id\":9,\"description\":\"Save the completed essay to a text file for delivery.\",\"tool_calls\":[{\"id\":\"8\",\"name\":\"functions.save_txt\",\"arguments\":{\"keys\":[\"text\",\"filename\"],\"values\":[\"The full essay on the cultural impact of the internet\",\"cultural_impact_internet_essay.txt\"]}}],\"thought\":\"Save the final reviewed essay in a text file to provide to the user.\" ,\"status\":\"todo\"}]}', type='output_text', logprobs=[], parsed=Plan(original_query='write an essay on the cultural impact of the internet', description='Create an essay discussing the cultural impact of the internet by researching the topic, selecting key cultural aspects influenced by the internet, writing a structured essay with introduction, body paragraphs, and conclusion, and then reviewing and saving the essay.', tasks=[PlannerTask(id=1, description='Research the cultural impact of the internet to gather relevant information and key points.', tool_calls=[ToolCall(id='1', name='functions.wiki_search', arguments=ToolArguments(keys=['query', 'sentences'], values=['cultural impact of the internet', '4']))], thought='To write an informed essay, first gather concise and relevant information about the cultural impact of the internet through a Wikipedia search.', status='todo'), PlannerTask(id=2, description='Select main points from the research to structure the essay, focusing on significant cultural aspects influenced by the internet such as communication, social behavior, and media.', tool_calls=[], thought='Analyze the research results and select key cultural impact points to build a clear essay structure for multiple body paragraphs. This is a mental planning step before writing.', status='todo'), PlannerTask(id=3, description='Write the introduction paragraph to the essay, outlining the topic and importance of the cultural impact of the internet.', tool_calls=[ToolCall(id='2', name='functions.writer_tool', arguments=ToolArguments(keys=['query', 'context'], values=['Introduction to cultural impact of the internet', 'Use researched information to frame the significance and scope of cultural changes due to the internet.']))], thought=\"Craft an engaging introduction that sets up the topic and importance of the internet's cultural impact using the research context.\", status='todo'), PlannerTask(id=4, description='Write the first body paragraph about the impact of the internet on communication and social behavior.', tool_calls=[ToolCall(id='3', name='functions.writer_tool', arguments=ToolArguments(keys=['query', 'context'], values=['Impact of internet on communication and social behavior', 'Discuss changes in how people communicate, social networking, and online communities based on research.']))], thought='Develop the first body paragraph focusing on how the internet has transformed communication and social interactions.', status='todo'), PlannerTask(id=5, description='Write the second body paragraph about the impact of the internet on media consumption and content creation.', tool_calls=[ToolCall(id='4', name='functions.writer_tool', arguments=ToolArguments(keys=['query', 'context'], values=['Impact of internet on media consumption and content creation', 'Explain shifts in media access, user-generated content, and new platforms for cultural expression.']))], thought='Create a paragraph outlining how the internet has changed media consumption patterns and enabled content creation.', status='todo'), PlannerTask(id=6, description='Write the third body paragraph about broader cultural shifts caused by the internet, such as globalization and cultural exchange.', tool_calls=[ToolCall(id='5', name='functions.writer_tool', arguments=ToolArguments(keys=['query', 'context'], values=['Internet-driven globalization and cultural exchange', 'Cover how the internet facilitates global connectivity and cross-cultural influences.']))], thought='Present a paragraph discussing how the internet encourages globalization and cultural exchange, broadening cultural perspectives.', status='todo'), PlannerTask(id=7, description='Write the conclusion paragraph summarizing the overall cultural impact of the internet and its ongoing influence.', tool_calls=[ToolCall(id='6', name='functions.writer_tool', arguments=ToolArguments(keys=['query', 'context'], values=['Conclusion on cultural impact of the internet', \"Summarize the main points and reflect on the significance and future implications of the internet's cultural impact.\"]))], thought='Conclude the essay by summarizing key cultural impacts and reflecting on ongoing and future implications.', status='todo'), PlannerTask(id=8, description='Review and edit the entire essay for coherence, clarity, and completeness.', tool_calls=[ToolCall(id='7', name='functions.review_tool', arguments=ToolArguments(keys=['content'], values=['Introduction and body paragraphs about the cultural impact of the internet and conclusion.']))], thought='Review the full essay content to ensure it is clear, coherent, and effectively covers the topic before finalizing.', status='todo'), PlannerTask(id=9, description='Save the completed essay to a text file for delivery.', tool_calls=[ToolCall(id='8', name='functions.save_txt', arguments=ToolArguments(keys=['text', 'filename'], values=['The full essay on the cultural impact of the internet', 'cultural_impact_internet_essay.txt']))], thought='Save the final reviewed essay in a text file to provide to the user.', status='todo')]))], role='assistant', status='completed', type='message')], parallel_tool_calls=True, temperature=1.0, tool_choice='auto', tools=[FunctionTool(name='get_weather', parameters={'type': 'object', 'properties': {'latitude': {'title': 'latitude', 'type': 'string'}, 'longitude': {'title': 'longitude', 'type': 'string'}}, 'required': ['latitude', 'longitude']}, strict=True, type='function', description='Get current temperature for provided coordinates in celsius'), FunctionTool(name='wiki_search', parameters={'type': 'object', 'properties': {'query': {'title': 'Query', 'type': 'string'}, 'sentences': {'default': 2, 'title': 'Sentences', 'type': 'integer'}}, 'required': ['query']}, strict=True, type='function', description='Search wikipedia for the given query and returns a summary.'), FunctionTool(name='save_txt', parameters={'type': 'object', 'properties': {'text': {'title': 'Text', 'type': 'string'}, 'filename': {'default': 'output.txt', 'title': 'Filename', 'type': 'string'}}, 'required': ['text']}, strict=True, type='function', description='Save text to a .txt file'), FunctionTool(name='writer_tool', parameters={'type': 'object', 'properties': {'query': {'title': 'Query', 'type': 'string'}, 'context': {'title': 'Context', 'type': 'string'}}, 'required': ['query', 'context']}, strict=True, type='function', description='Writes an essay on a given topic'), FunctionTool(name='review_tool', parameters={'type': 'object', 'properties': {'content': {'title': 'Content', 'type': 'string'}}, 'required': ['content']}, strict=True, type='function', description='Reviews content on a given topic'), FunctionTool(name='assemble_content', parameters={'type': 'object', 'properties': {'content': {'title': 'Content', 'type': 'string'}}, 'required': ['content']}, strict=True, type='function', description='Assamble content from previous tasks'), FunctionTool(name='arxiv_search', parameters={'type': 'object', 'properties': {'query': {'title': 'Query', 'type': 'string'}}, 'required': ['query']}, strict=True, type='function', description='Search arxiv')], top_p=1.0, background=False, max_output_tokens=None, max_tool_calls=None, previous_response_id=None, prompt=None, prompt_cache_key=None, reasoning=Reasoning(effort=None, generate_summary=None, summary=None), safety_identifier=None, service_tier='default', status='completed', text=ResponseTextConfig(format=ResponseFormatTextJSONSchemaConfig(name='Plan', schema_={'$defs': {'PlannerTask': {'description': 'Represents a single task generated by the Planner.', 'properties': {'id': {'description': 'Sequential ID for the task.', 'title': 'Id', 'type': 'integer'}, 'description': {'description': 'Clear description of the task to be executed.', 'title': 'Description', 'type': 'string'}, 'tool_calls': {'description': 'A list of tools to be executed sequentially to complete the task', 'items': {'$ref': '#/$defs/ToolCall'}, 'title': 'Tool Calls', 'type': 'array'}, 'thought': {'description': 'A explanation of what needs to be done and how. Includes description and tool calls.', 'title': 'Thought', 'type': 'string'}, 'status': {'anyOf': [{'enum': ['input_required', 'completed', 'error', 'pending', 'incomplete', 'todo', 'not_started'], 'type': 'string'}, {'type': 'null'}], 'default': 'input_required', 'description': 'Status of the task', 'title': 'Status'}}, 'required': ['id', 'description', 'tool_calls', 'thought', 'status'], 'title': 'PlannerTask', 'type': 'object', 'additionalProperties': False}, 'ToolArguments': {'properties': {'keys': {'description': 'A list of arguments to a tool', 'items': {'type': 'string'}, 'title': 'Keys', 'type': 'array'}, 'values': {'description': 'A list of argument values to a tool', 'items': {'type': 'string'}, 'title': 'Values', 'type': 'array'}}, 'required': ['keys', 'values'], 'title': 'ToolArguments', 'type': 'object', 'additionalProperties': False}, 'ToolCall': {'description': 'Represents a tool call request from the LLM.', 'properties': {'id': {'description': 'The ID of the tool call.', 'title': 'Id', 'type': 'string'}, 'name': {'description': 'The name of the tool to call.', 'title': 'Name', 'type': 'string'}, 'arguments': {'description': 'The arguments to call the tool with.', 'properties': {'keys': {'description': 'A list of arguments to a tool', 'items': {'type': 'string'}, 'title': 'Keys', 'type': 'array'}, 'values': {'description': 'A list of argument values to a tool', 'items': {'type': 'string'}, 'title': 'Values', 'type': 'array'}}, 'required': ['keys', 'values'], 'title': 'ToolArguments', 'type': 'object', 'additionalProperties': False}}, 'required': ['id', 'name', 'arguments'], 'title': 'ToolCall', 'type': 'object', 'additionalProperties': False}}, 'description': 'Output schema for the Planner Agent.', 'properties': {'original_query': {'description': 'The original user query for context.', 'title': 'Original Query', 'type': 'string'}, 'description': {'description': 'Clear description of the overall plan.', 'title': 'Description', 'type': 'string'}, 'tasks': {'description': 'A list of tasks to be executed sequentially.', 'items': {'$ref': '#/$defs/PlannerTask'}, 'title': 'Tasks', 'type': 'array'}}, 'required': ['original_query', 'description', 'tasks'], 'title': 'Plan', 'type': 'object', 'additionalProperties': False}, type='json_schema', description=None, strict=True)), top_logprobs=0, truncation='disabled', usage=ResponseUsage(input_tokens=1309, input_tokens_details=InputTokensDetails(cached_tokens=0), output_tokens=932, output_tokens_details=OutputTokensDetails(reasoning_tokens=0), total_tokens=2241), user=None, store=True)"
      ]
     },
     "execution_count": 60,
     "metadata": {},
     "output_type": "execute_result"
    }
   ],
   "source": [
    "plan"
   ]
  },
  {
   "cell_type": "code",
   "execution_count": 61,
   "id": "30f0e0a7-05b5-4a9a-8a25-5f2ac1aa6ab2",
   "metadata": {},
   "outputs": [],
   "source": [
    "plan_parsed: Plan = plan.output_parsed"
   ]
  },
  {
   "cell_type": "code",
   "execution_count": 62,
   "id": "08891adc-a382-468f-b016-d11ee29cb40d",
   "metadata": {},
   "outputs": [],
   "source": [
    "with open(\"aug_1_plan_2.pkl\", \"wb\") as f:\n",
    "    pickle.dump(plan_parsed.model_dump(), f)"
   ]
  },
  {
   "cell_type": "code",
   "execution_count": 63,
   "id": "5bb5ad22-4f54-42eb-ae2b-8c279b7ec415",
   "metadata": {},
   "outputs": [
    {
     "data": {
      "text/plain": [
       "'PLAN PARSED: original_query=\\'write an essay on the cultural impact of the internet\\' description=\\'Create an essay discussing the cultural impact of the internet by researching the topic, selecting key cultural aspects influenced by the internet, writing a structured essay with introduction, body paragraphs, and conclusion, and then reviewing and saving the essay.\\' tasks=[PlannerTask(id=1, description=\\'Research the cultural impact of the internet to gather relevant information and key points.\\', tool_calls=[ToolCall(id=\\'1\\', name=\\'functions.wiki_search\\', arguments=ToolArguments(keys=[\\'query\\', \\'sentences\\'], values=[\\'cultural impact of the internet\\', \\'4\\']))], thought=\\'To write an informed essay, first gather concise and relevant information about the cultural impact of the internet through a Wikipedia search.\\', status=\\'todo\\'), PlannerTask(id=2, description=\\'Select main points from the research to structure the essay, focusing on significant cultural aspects influenced by the internet such as communication, social behavior, and media.\\', tool_calls=[], thought=\\'Analyze the research results and select key cultural impact points to build a clear essay structure for multiple body paragraphs. This is a mental planning step before writing.\\', status=\\'todo\\'), PlannerTask(id=3, description=\\'Write the introduction paragraph to the essay, outlining the topic and importance of the cultural impact of the internet.\\', tool_calls=[ToolCall(id=\\'2\\', name=\\'functions.writer_tool\\', arguments=ToolArguments(keys=[\\'query\\', \\'context\\'], values=[\\'Introduction to cultural impact of the internet\\', \\'Use researched information to frame the significance and scope of cultural changes due to the internet.\\']))], thought=\"Craft an engaging introduction that sets up the topic and importance of the internet\\'s cultural impact using the research context.\", status=\\'todo\\'), PlannerTask(id=4, description=\\'Write the first body paragraph about the impact of the internet on communication and social behavior.\\', tool_calls=[ToolCall(id=\\'3\\', name=\\'functions.writer_tool\\', arguments=ToolArguments(keys=[\\'query\\', \\'context\\'], values=[\\'Impact of internet on communication and social behavior\\', \\'Discuss changes in how people communicate, social networking, and online communities based on research.\\']))], thought=\\'Develop the first body paragraph focusing on how the internet has transformed communication and social interactions.\\', status=\\'todo\\'), PlannerTask(id=5, description=\\'Write the second body paragraph about the impact of the internet on media consumption and content creation.\\', tool_calls=[ToolCall(id=\\'4\\', name=\\'functions.writer_tool\\', arguments=ToolArguments(keys=[\\'query\\', \\'context\\'], values=[\\'Impact of internet on media consumption and content creation\\', \\'Explain shifts in media access, user-generated content, and new platforms for cultural expression.\\']))], thought=\\'Create a paragraph outlining how the internet has changed media consumption patterns and enabled content creation.\\', status=\\'todo\\'), PlannerTask(id=6, description=\\'Write the third body paragraph about broader cultural shifts caused by the internet, such as globalization and cultural exchange.\\', tool_calls=[ToolCall(id=\\'5\\', name=\\'functions.writer_tool\\', arguments=ToolArguments(keys=[\\'query\\', \\'context\\'], values=[\\'Internet-driven globalization and cultural exchange\\', \\'Cover how the internet facilitates global connectivity and cross-cultural influences.\\']))], thought=\\'Present a paragraph discussing how the internet encourages globalization and cultural exchange, broadening cultural perspectives.\\', status=\\'todo\\'), PlannerTask(id=7, description=\\'Write the conclusion paragraph summarizing the overall cultural impact of the internet and its ongoing influence.\\', tool_calls=[ToolCall(id=\\'6\\', name=\\'functions.writer_tool\\', arguments=ToolArguments(keys=[\\'query\\', \\'context\\'], values=[\\'Conclusion on cultural impact of the internet\\', \"Summarize the main points and reflect on the significance and future implications of the internet\\'s cultural impact.\"]))], thought=\\'Conclude the essay by summarizing key cultural impacts and reflecting on ongoing and future implications.\\', status=\\'todo\\'), PlannerTask(id=8, description=\\'Review and edit the entire essay for coherence, clarity, and completeness.\\', tool_calls=[ToolCall(id=\\'7\\', name=\\'functions.review_tool\\', arguments=ToolArguments(keys=[\\'content\\'], values=[\\'Introduction and body paragraphs about the cultural impact of the internet and conclusion.\\']))], thought=\\'Review the full essay content to ensure it is clear, coherent, and effectively covers the topic before finalizing.\\', status=\\'todo\\'), PlannerTask(id=9, description=\\'Save the completed essay to a text file for delivery.\\', tool_calls=[ToolCall(id=\\'8\\', name=\\'functions.save_txt\\', arguments=ToolArguments(keys=[\\'text\\', \\'filename\\'], values=[\\'The full essay on the cultural impact of the internet\\', \\'cultural_impact_internet_essay.txt\\']))], thought=\\'Save the final reviewed essay in a text file to provide to the user.\\', status=\\'todo\\')]'"
      ]
     },
     "execution_count": 63,
     "metadata": {},
     "output_type": "execute_result"
    }
   ],
   "source": [
    "f'PLAN PARSED: {plan_parsed}'"
   ]
  },
  {
   "cell_type": "code",
   "execution_count": 29,
   "id": "e4866980-37b8-446b-9bfe-1a6c8950e558",
   "metadata": {},
   "outputs": [
    {
     "data": {
      "text/plain": [
       "PlannerTask(id=1, description=\"Research the topic 'Cultural impact of the internet' to gather key points and relevant information.\", tool_calls=[ToolCall(id='1', name='functions.wiki_search', arguments=ToolArguments(keys=['query', 'sentences'], values=['Cultural impact of the internet', '5']))], thought='I will research the cultural impact of the internet to collect reliable and concise information to use as the basis for the essay.', status='todo')"
      ]
     },
     "execution_count": 29,
     "metadata": {},
     "output_type": "execute_result"
    }
   ],
   "source": [
    "plan_parsed.tasks[0] # select first task"
   ]
  },
  {
   "cell_type": "code",
   "execution_count": 46,
   "id": "5f907c1d-da6f-4138-923f-b1fcc37e6f29",
   "metadata": {},
   "outputs": [
    {
     "data": {
      "text/plain": [
       "'I will research the cultural impact of the internet to collect reliable and concise information to use as the basis for the essay.'"
      ]
     },
     "execution_count": 46,
     "metadata": {},
     "output_type": "execute_result"
    }
   ],
   "source": [
    "plan_parsed.tasks[0].thought"
   ]
  },
  {
   "cell_type": "code",
   "execution_count": 30,
   "id": "a15a0be6-b210-436f-9f2b-0b0441b1dde4",
   "metadata": {},
   "outputs": [
    {
     "data": {
      "text/plain": [
       "ToolCall(id='1', name='functions.wiki_search', arguments=ToolArguments(keys=['query', 'sentences'], values=['Cultural impact of the internet', '5']))"
      ]
     },
     "execution_count": 30,
     "metadata": {},
     "output_type": "execute_result"
    }
   ],
   "source": [
    "plan_parsed.tasks[0].tool_calls[0] # select first tool call in task"
   ]
  },
  {
   "cell_type": "code",
   "execution_count": 31,
   "id": "8fb3e3e4-042e-4614-adb7-91b41cfd4e2b",
   "metadata": {},
   "outputs": [
    {
     "data": {
      "text/plain": [
       "ToolArguments(keys=['query', 'sentences'], values=['Cultural impact of the internet', '5'])"
      ]
     },
     "execution_count": 31,
     "metadata": {},
     "output_type": "execute_result"
    }
   ],
   "source": [
    "plan_parsed.tasks[0].tool_calls[0].arguments # select the arguments in the frist tool call within the first task"
   ]
  },
  {
   "cell_type": "code",
   "execution_count": 32,
   "id": "41f90e50-3dfe-45f7-8af6-6abb08976833",
   "metadata": {},
   "outputs": [
    {
     "data": {
      "text/plain": [
       "['query', 'sentences']"
      ]
     },
     "execution_count": 32,
     "metadata": {},
     "output_type": "execute_result"
    }
   ],
   "source": [
    "plan_parsed.tasks[0].tool_calls[0].arguments.keys"
   ]
  },
  {
   "cell_type": "code",
   "execution_count": 33,
   "id": "da48de4c-3ccc-46b5-85c5-b0aca70ed558",
   "metadata": {},
   "outputs": [],
   "source": [
    "tool = {'name': plan_parsed.tasks[0].tool_calls[0].name.split('.')[-1]}"
   ]
  },
  {
   "cell_type": "code",
   "execution_count": 34,
   "id": "68749a47-2338-4dc9-bcf1-cedf8b0497cc",
   "metadata": {},
   "outputs": [],
   "source": [
    "tool_call_keys = plan_parsed.tasks[0].tool_calls[0].arguments.keys\n",
    "tool_call_values = plan_parsed.tasks[0].tool_calls[0].arguments.values\n",
    "for i in range(len(plan_parsed.tasks[0].tool_calls[0].arguments.keys)):\n",
    "    tool[plan_parsed.tasks[0].tool_calls[0].arguments.keys[i]] = plan_parsed.tasks[0].tool_calls[0].arguments.values[i]"
   ]
  },
  {
   "cell_type": "code",
   "execution_count": 35,
   "id": "c6804527-5aef-46d1-b92c-3289a79596cc",
   "metadata": {},
   "outputs": [
    {
     "data": {
      "text/plain": [
       "{'name': 'wiki_search',\n",
       " 'query': 'Cultural impact of the internet',\n",
       " 'sentences': '5'}"
      ]
     },
     "execution_count": 35,
     "metadata": {},
     "output_type": "execute_result"
    }
   ],
   "source": [
    "tool"
   ]
  },
  {
   "cell_type": "code",
   "execution_count": null,
   "id": "1e47556e-fe69-4a54-9d24-5318dcef7466",
   "metadata": {},
   "outputs": [],
   "source": []
  }
 ],
 "metadata": {
  "kernelspec": {
   "display_name": "Python 3 (ipykernel)",
   "language": "python",
   "name": "python3"
  },
  "language_info": {
   "codemirror_mode": {
    "name": "ipython",
    "version": 3
   },
   "file_extension": ".py",
   "mimetype": "text/x-python",
   "name": "python",
   "nbconvert_exporter": "python",
   "pygments_lexer": "ipython3",
   "version": "3.13.1"
  }
 },
 "nbformat": 4,
 "nbformat_minor": 5
}
