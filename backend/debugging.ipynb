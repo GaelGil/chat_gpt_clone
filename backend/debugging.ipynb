{
 "cells": [
  {
   "cell_type": "code",
   "execution_count": 4,
   "id": "7f1e1f2c-3a0b-4a46-954a-d9d8de55124c",
   "metadata": {},
   "outputs": [],
   "source": [
    "from openai import OpenAI\n",
    "from pathlib import Path\n",
    "from dotenv import load_dotenv\n",
    "import os"
   ]
  },
  {
   "cell_type": "code",
   "execution_count": 2,
   "id": "274f7769-753a-4a1e-992d-d0c0f82ba3a7",
   "metadata": {},
   "outputs": [
    {
     "data": {
      "text/plain": [
       "True"
      ]
     },
     "execution_count": 2,
     "metadata": {},
     "output_type": "execute_result"
    }
   ],
   "source": [
    "load_dotenv(Path(\"./.env\"))"
   ]
  },
  {
   "cell_type": "code",
   "execution_count": 5,
   "id": "7fc126e6-771d-43ea-a8cc-cab54537d407",
   "metadata": {},
   "outputs": [],
   "source": [
    "client = OpenAI(api_key=os.getenv(\"OPENAI_API_KEY\"))"
   ]
  },
  {
   "cell_type": "code",
   "execution_count": 6,
   "id": "3fa04606-4f7e-449c-b401-27bbf4da090c",
   "metadata": {},
   "outputs": [],
   "source": [
    "tools = [\n",
    "    {\n",
    "        \"type\": \"function\",\n",
    "        \"name\": \"send_email\",\n",
    "        \"description\": \"Send an email to a given recipient with a subject and message.\",\n",
    "        \"parameters\": {\n",
    "            \"type\": \"object\",\n",
    "            \"properties\": {\n",
    "                \"to\": {\"type\": \"string\", \"description\": \"The recipient email address.\"},\n",
    "                \"subject\": {\"type\": \"string\", \"description\": \"Email subject line.\"},\n",
    "                \"body\": {\"type\": \"string\", \"description\": \"Body of the email message.\"},\n",
    "            },\n",
    "            \"required\": [\"to\", \"subject\", \"body\"],\n",
    "            \"additionalProperties\": False,\n",
    "        },\n",
    "    }\n",
    "]"
   ]
  },
  {
   "cell_type": "code",
   "execution_count": 7,
   "id": "5f1ab34a-4a52-4ae4-9626-f7a903da8deb",
   "metadata": {},
   "outputs": [],
   "source": [
    "response = client.responses.create(\n",
    "    model=\"gpt-4.1-mini\",\n",
    "    input=[\n",
    "        {\n",
    "            'role': 'system',\n",
    "            'content': \"You are a helpful assistant, you have tools but only call them when neccesary\"\n",
    "           },\n",
    "           {\n",
    "               'role': 'user',\n",
    "               'content': 'what is the binomial distribution'\n",
    "          }\n",
    "          ],\n",
    "    tools=tools,\n",
    "    tool_choice='auto'\n",
    "\n",
    ")"
   ]
  },
  {
   "cell_type": "code",
   "execution_count": 8,
   "id": "854523d2-f0ba-4c14-b819-ba79acd9c634",
   "metadata": {},
   "outputs": [
    {
     "data": {
      "text/plain": [
       "'The binomial distribution is a discrete probability distribution that describes the number of successes in a fixed number of independent trials of a binary (yes/no) experiment. Each trial has only two possible outcomes: success or failure. The probability of success is the same for each trial.\\n\\nKey characteristics of the binomial distribution:\\n- Number of trials (n): Fixed number of independent trials or experiments.\\n- Probability of success (p): The probability that a single trial results in success.\\n- Number of successes (k): The number of successes in the n trials.\\n\\nThe probability of getting exactly k successes in n trials is given by the binomial probability formula:\\n\\n\\\\[ P(X = k) = \\\\binom{n}{k} p^k (1-p)^{n-k} \\\\]\\n\\nwhere:\\n- \\\\( \\\\binom{n}{k} \\\\) is the binomial coefficient, representing the number of ways to choose k successes out of n trials.\\n- \\\\( p^k \\\\) is the probability of having k successes.\\n- \\\\( (1-p)^{n-k} \\\\) is the probability of having n-k failures.\\n\\nThe binomial distribution is commonly used in scenarios such as coin tosses, quality control, and yes/no survey responses.'"
      ]
     },
     "execution_count": 8,
     "metadata": {},
     "output_type": "execute_result"
    }
   ],
   "source": [
    "response.output_text"
   ]
  },
  {
   "cell_type": "code",
   "execution_count": 9,
   "id": "dd8ddd63-8f3d-4c58-b5f3-868ec44f688c",
   "metadata": {},
   "outputs": [
    {
     "data": {
      "text/plain": [
       "['__abstractmethods__',\n",
       " '__annotations__',\n",
       " '__class__',\n",
       " '__class_getitem__',\n",
       " '__class_vars__',\n",
       " '__copy__',\n",
       " '__deepcopy__',\n",
       " '__delattr__',\n",
       " '__dict__',\n",
       " '__dir__',\n",
       " '__doc__',\n",
       " '__eq__',\n",
       " '__fields__',\n",
       " '__fields_set__',\n",
       " '__firstlineno__',\n",
       " '__format__',\n",
       " '__ge__',\n",
       " '__get_pydantic_core_schema__',\n",
       " '__get_pydantic_json_schema__',\n",
       " '__getattr__',\n",
       " '__getattribute__',\n",
       " '__getstate__',\n",
       " '__gt__',\n",
       " '__hash__',\n",
       " '__init__',\n",
       " '__init_subclass__',\n",
       " '__iter__',\n",
       " '__le__',\n",
       " '__lt__',\n",
       " '__module__',\n",
       " '__ne__',\n",
       " '__new__',\n",
       " '__pretty__',\n",
       " '__private_attributes__',\n",
       " '__pydantic_complete__',\n",
       " '__pydantic_computed_fields__',\n",
       " '__pydantic_core_schema__',\n",
       " '__pydantic_custom_init__',\n",
       " '__pydantic_decorators__',\n",
       " '__pydantic_extra__',\n",
       " '__pydantic_fields__',\n",
       " '__pydantic_fields_set__',\n",
       " '__pydantic_generic_metadata__',\n",
       " '__pydantic_init_subclass__',\n",
       " '__pydantic_parent_namespace__',\n",
       " '__pydantic_post_init__',\n",
       " '__pydantic_private__',\n",
       " '__pydantic_root_model__',\n",
       " '__pydantic_serializer__',\n",
       " '__pydantic_setattr_handlers__',\n",
       " '__pydantic_validator__',\n",
       " '__reduce__',\n",
       " '__reduce_ex__',\n",
       " '__replace__',\n",
       " '__repr__',\n",
       " '__repr_args__',\n",
       " '__repr_name__',\n",
       " '__repr_recursion__',\n",
       " '__repr_str__',\n",
       " '__rich_repr__',\n",
       " '__setattr__',\n",
       " '__setstate__',\n",
       " '__signature__',\n",
       " '__sizeof__',\n",
       " '__slots__',\n",
       " '__static_attributes__',\n",
       " '__str__',\n",
       " '__subclasshook__',\n",
       " '__weakref__',\n",
       " '_abc_impl',\n",
       " '_calculate_keys',\n",
       " '_copy_and_set_values',\n",
       " '_get_value',\n",
       " '_iter',\n",
       " '_request_id',\n",
       " '_setattr_handler',\n",
       " 'background',\n",
       " 'construct',\n",
       " 'copy',\n",
       " 'created_at',\n",
       " 'dict',\n",
       " 'error',\n",
       " 'from_orm',\n",
       " 'id',\n",
       " 'incomplete_details',\n",
       " 'instructions',\n",
       " 'json',\n",
       " 'max_output_tokens',\n",
       " 'max_tool_calls',\n",
       " 'metadata',\n",
       " 'model',\n",
       " 'model_computed_fields',\n",
       " 'model_config',\n",
       " 'model_construct',\n",
       " 'model_copy',\n",
       " 'model_dump',\n",
       " 'model_dump_json',\n",
       " 'model_extra',\n",
       " 'model_fields',\n",
       " 'model_fields_set',\n",
       " 'model_json_schema',\n",
       " 'model_parametrized_name',\n",
       " 'model_post_init',\n",
       " 'model_rebuild',\n",
       " 'model_validate',\n",
       " 'model_validate_json',\n",
       " 'model_validate_strings',\n",
       " 'object',\n",
       " 'output',\n",
       " 'output_text',\n",
       " 'parallel_tool_calls',\n",
       " 'parse_file',\n",
       " 'parse_obj',\n",
       " 'parse_raw',\n",
       " 'previous_response_id',\n",
       " 'prompt',\n",
       " 'prompt_cache_key',\n",
       " 'reasoning',\n",
       " 'safety_identifier',\n",
       " 'schema',\n",
       " 'schema_json',\n",
       " 'service_tier',\n",
       " 'status',\n",
       " 'temperature',\n",
       " 'text',\n",
       " 'to_dict',\n",
       " 'to_json',\n",
       " 'tool_choice',\n",
       " 'tools',\n",
       " 'top_logprobs',\n",
       " 'top_p',\n",
       " 'truncation',\n",
       " 'update_forward_refs',\n",
       " 'usage',\n",
       " 'user',\n",
       " 'validate']"
      ]
     },
     "execution_count": 9,
     "metadata": {},
     "output_type": "execute_result"
    }
   ],
   "source": [
    "dir(response)"
   ]
  },
  {
   "cell_type": "code",
   "execution_count": 14,
   "id": "dadf9195-8065-4094-8a29-aab1c8a1f362",
   "metadata": {},
   "outputs": [
    {
     "data": {
      "text/plain": [
       "[ResponseOutputMessage(id='msg_68af69deda74819ebc62aacc2d8ab4d40b90547a2ec892e4', content=[ResponseOutputText(annotations=[], text='The binomial distribution is a discrete probability distribution that describes the number of successes in a fixed number of independent trials of a binary (yes/no) experiment. Each trial has only two possible outcomes: success or failure. The probability of success is the same for each trial.\\n\\nKey characteristics of the binomial distribution:\\n- Number of trials (n): Fixed number of independent trials or experiments.\\n- Probability of success (p): The probability that a single trial results in success.\\n- Number of successes (k): The number of successes in the n trials.\\n\\nThe probability of getting exactly k successes in n trials is given by the binomial probability formula:\\n\\n\\\\[ P(X = k) = \\\\binom{n}{k} p^k (1-p)^{n-k} \\\\]\\n\\nwhere:\\n- \\\\( \\\\binom{n}{k} \\\\) is the binomial coefficient, representing the number of ways to choose k successes out of n trials.\\n- \\\\( p^k \\\\) is the probability of having k successes.\\n- \\\\( (1-p)^{n-k} \\\\) is the probability of having n-k failures.\\n\\nThe binomial distribution is commonly used in scenarios such as coin tosses, quality control, and yes/no survey responses.', type='output_text', logprobs=[])], role='assistant', status='completed', type='message')]"
      ]
     },
     "execution_count": 14,
     "metadata": {},
     "output_type": "execute_result"
    }
   ],
   "source": [
    "response.output"
   ]
  },
  {
   "cell_type": "code",
   "execution_count": 19,
   "id": "7430938b-0416-4acc-b7d0-c708a8740c09",
   "metadata": {},
   "outputs": [],
   "source": [
    "second_response = client.responses.create(\n",
    "    model=\"gpt-4.1-mini\",\n",
    "    input=[\n",
    "        {\n",
    "            'role': 'system',\n",
    "            'content': \"You are a helpful assistant, you have tools but only call them when neccesary\"\n",
    "           },\n",
    "           {\n",
    "               'role': 'user',\n",
    "               'content': 'Can you send an email to ilan@example.com and katia@example.com saying hi?'\n",
    "          }\n",
    "          ],\n",
    "    tools=tools,\n",
    "    tool_choice='auto'\n",
    "\n",
    ")"
   ]
  },
  {
   "cell_type": "code",
   "execution_count": 26,
   "id": "46f4fc60-ee73-4e6d-be32-d3a587a47d40",
   "metadata": {},
   "outputs": [
    {
     "name": "stdout",
     "output_type": "stream",
     "text": [
      "no output\n"
     ]
    }
   ],
   "source": [
    "if second_response.output_text:\n",
    "    print('output')\n",
    "else:\n",
    "    print('no output')"
   ]
  },
  {
   "cell_type": "code",
   "execution_count": 27,
   "id": "b81a2cb6-d252-416a-ac30-320d808c1d7a",
   "metadata": {},
   "outputs": [
    {
     "data": {
      "text/plain": [
       "['__add__',\n",
       " '__class__',\n",
       " '__class_getitem__',\n",
       " '__contains__',\n",
       " '__delattr__',\n",
       " '__delitem__',\n",
       " '__dir__',\n",
       " '__doc__',\n",
       " '__eq__',\n",
       " '__format__',\n",
       " '__ge__',\n",
       " '__getattribute__',\n",
       " '__getitem__',\n",
       " '__getstate__',\n",
       " '__gt__',\n",
       " '__hash__',\n",
       " '__iadd__',\n",
       " '__imul__',\n",
       " '__init__',\n",
       " '__init_subclass__',\n",
       " '__iter__',\n",
       " '__le__',\n",
       " '__len__',\n",
       " '__lt__',\n",
       " '__mul__',\n",
       " '__ne__',\n",
       " '__new__',\n",
       " '__reduce__',\n",
       " '__reduce_ex__',\n",
       " '__repr__',\n",
       " '__reversed__',\n",
       " '__rmul__',\n",
       " '__setattr__',\n",
       " '__setitem__',\n",
       " '__sizeof__',\n",
       " '__str__',\n",
       " '__subclasshook__',\n",
       " 'append',\n",
       " 'clear',\n",
       " 'copy',\n",
       " 'count',\n",
       " 'extend',\n",
       " 'index',\n",
       " 'insert',\n",
       " 'pop',\n",
       " 'remove',\n",
       " 'reverse',\n",
       " 'sort']"
      ]
     },
     "execution_count": 27,
     "metadata": {},
     "output_type": "execute_result"
    }
   ],
   "source": [
    "dir(response.output\n",
    ")"
   ]
  },
  {
   "cell_type": "code",
   "execution_count": 25,
   "id": "63bdef6c-652b-4632-9d5d-d31cb9cb439b",
   "metadata": {},
   "outputs": [
    {
     "data": {
      "text/plain": [
       "['__add__',\n",
       " '__class__',\n",
       " '__class_getitem__',\n",
       " '__contains__',\n",
       " '__delattr__',\n",
       " '__delitem__',\n",
       " '__dir__',\n",
       " '__doc__',\n",
       " '__eq__',\n",
       " '__format__',\n",
       " '__ge__',\n",
       " '__getattribute__',\n",
       " '__getitem__',\n",
       " '__getstate__',\n",
       " '__gt__',\n",
       " '__hash__',\n",
       " '__iadd__',\n",
       " '__imul__',\n",
       " '__init__',\n",
       " '__init_subclass__',\n",
       " '__iter__',\n",
       " '__le__',\n",
       " '__len__',\n",
       " '__lt__',\n",
       " '__mul__',\n",
       " '__ne__',\n",
       " '__new__',\n",
       " '__reduce__',\n",
       " '__reduce_ex__',\n",
       " '__repr__',\n",
       " '__reversed__',\n",
       " '__rmul__',\n",
       " '__setattr__',\n",
       " '__setitem__',\n",
       " '__sizeof__',\n",
       " '__str__',\n",
       " '__subclasshook__',\n",
       " 'append',\n",
       " 'clear',\n",
       " 'copy',\n",
       " 'count',\n",
       " 'extend',\n",
       " 'index',\n",
       " 'insert',\n",
       " 'pop',\n",
       " 'remove',\n",
       " 'reverse',\n",
       " 'sort']"
      ]
     },
     "execution_count": 25,
     "metadata": {},
     "output_type": "execute_result"
    }
   ],
   "source": [
    "dir(second_response.output)"
   ]
  },
  {
   "cell_type": "code",
   "execution_count": 31,
   "id": "06a581cc-0a15-4fe3-ab6b-ef1692a609ac",
   "metadata": {},
   "outputs": [
    {
     "data": {
      "text/plain": [
       "'message'"
      ]
     },
     "execution_count": 31,
     "metadata": {},
     "output_type": "execute_result"
    }
   ],
   "source": [
    "response.output[0].type"
   ]
  },
  {
   "cell_type": "code",
   "execution_count": 45,
   "id": "78b6c922-6ded-4ca3-b955-66ab6c242f9e",
   "metadata": {},
   "outputs": [
    {
     "name": "stdout",
     "output_type": "stream",
     "text": [
      "The binomial distribution is a discrete probability distribution that describes the number of successes in a fixed number of independent trials of a binary (yes/no) experiment. Each trial has only two possible outcomes: success or failure. The probability of success is the same for each trial.\n",
      "\n",
      "Key characteristics of the binomial distribution:\n",
      "- Number of trials (n): Fixed number of independent trials or experiments.\n",
      "- Probability of success (p): The probability that a single trial results in success.\n",
      "- Number of successes (k): The number of successes in the n trials.\n",
      "\n",
      "The probability of getting exactly k successes in n trials is given by the binomial probability formula:\n",
      "\n",
      "\\[ P(X = k) = \\binom{n}{k} p^k (1-p)^{n-k} \\]\n",
      "\n",
      "where:\n",
      "- \\( \\binom{n}{k} \\) is the binomial coefficient, representing the number of ways to choose k successes out of n trials.\n",
      "- \\( p^k \\) is the probability of having k successes.\n",
      "- \\( (1-p)^{n-k} \\) is the probability of having n-k failures.\n",
      "\n",
      "The binomial distribution is commonly used in scenarios such as coin tosses, quality control, and yes/no survey responses.\n"
     ]
    }
   ],
   "source": [
    "if response.output[0].type == \"message\":\n",
    "    print(response.output_text)\n"
   ]
  },
  {
   "cell_type": "code",
   "execution_count": 32,
   "id": "1c21e2c9-2f68-4cb3-a5be-027c263d823b",
   "metadata": {},
   "outputs": [
    {
     "data": {
      "text/plain": [
       "'function_call'"
      ]
     },
     "execution_count": 32,
     "metadata": {},
     "output_type": "execute_result"
    }
   ],
   "source": [
    "second_response.output[0].type"
   ]
  },
  {
   "cell_type": "code",
   "execution_count": null,
   "id": "295bcefc-4743-4eed-968d-e74ce29f8afc",
   "metadata": {},
   "outputs": [],
   "source": [
    "tool_calls = {}"
   ]
  },
  {
   "cell_type": "code",
   "execution_count": 44,
   "id": "9c0dda05-18b3-4853-a06b-d795a42b4e89",
   "metadata": {},
   "outputs": [
    {
     "name": "stdout",
     "output_type": "stream",
     "text": [
      "send_email\n",
      "{\"to\":\"ilan@example.com\",\"subject\":\"Hi\",\"body\":\"hi\"}\n",
      "send_email\n",
      "{\"to\":\"katia@example.com\",\"subject\":\"Hi\",\"body\":\"hi\"}\n"
     ]
    }
   ],
   "source": [
    "if second_response.output[0].type == \"function_call\":\n",
    "    for tool_call in second_response.output:\n",
    "        print(tool_call.name)\n",
    "        print(tool_call.arguments)\n"
   ]
  },
  {
   "cell_type": "code",
   "execution_count": 42,
   "id": "d714c07e-3a61-4f97-ab33-19676bbad77a",
   "metadata": {},
   "outputs": [
    {
     "data": {
      "text/plain": [
       "ResponseFunctionToolCall(arguments='{\"to\":\"ilan@example.com\",\"subject\":\"Hi\",\"body\":\"hi\"}', call_id='call_pUv9xc5EpCJ6jVImNXUF7oAk', name='send_email', type='function_call', id='fc_68af6a8161b481a0a2831050ccacc14d0b7aaff6bb5c83dd', status='completed')"
      ]
     },
     "execution_count": 42,
     "metadata": {},
     "output_type": "execute_result"
    }
   ],
   "source": [
    "second_response.output[0]"
   ]
  },
  {
   "cell_type": "code",
   "execution_count": null,
   "id": "b49bd757-1ee5-4d46-a74a-562b121652e2",
   "metadata": {},
   "outputs": [],
   "source": []
  }
 ],
 "metadata": {
  "kernelspec": {
   "display_name": "Python 3 (ipykernel)",
   "language": "python",
   "name": "python3"
  },
  "language_info": {
   "codemirror_mode": {
    "name": "ipython",
    "version": 3
   },
   "file_extension": ".py",
   "mimetype": "text/x-python",
   "name": "python",
   "nbconvert_exporter": "python",
   "pygments_lexer": "ipython3",
   "version": "3.13.1"
  }
 },
 "nbformat": 4,
 "nbformat_minor": 5
}
